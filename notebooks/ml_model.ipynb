{
 "cells": [
  {
   "cell_type": "markdown",
   "metadata": {
    "vscode": {
     "languageId": "plaintext"
    }
   },
   "source": [
    "# Машинное обучение с использованием Gold слоя и MLflow\n",
    "\n",
    "В этом ноутбуке мы:\n",
    "1. Загружаем данные из gold слоя\n",
    "2. Подготавливаем данные для машинного обучения\n",
    "3. Обучаем модель предсказания возраста\n",
    "4. Оцениваем метрики модели\n",
    "5. Логируем модель и параметры с использованием MLflow\n",
    "\n",
    "## Цель: предсказание возраста пользователя по характеристикам устройства и поведению"
   ]
  },
  {
   "cell_type": "code",
   "execution_count": null,
   "metadata": {},
   "outputs": [],
   "source": [
    "!pip install --upgrade pyspark==3.5.0 delta-spark"
   ]
  },
  {
   "cell_type": "code",
   "execution_count": null,
   "metadata": {},
   "outputs": [],
   "source": [
    "!pip install mlflow==2.9.1"
   ]
  },
  {
   "cell_type": "code",
   "execution_count": null,
   "metadata": {},
   "outputs": [],
   "source": [
    "!pip install --upgrade typing_extensions typing_inspection"
   ]
  },
  {
   "cell_type": "code",
   "execution_count": 12,
   "metadata": {},
   "outputs": [
    {
     "name": "stdout",
     "output_type": "stream",
     "text": [
      "Импорт библиотек завершен успешно\n"
     ]
    }
   ],
   "source": [
    "# Импорт необходимых библиотек\n",
    "import os\n",
    "import numpy as np\n",
    "from pyspark.sql import SparkSession\n",
    "from pyspark.sql.functions import *\n",
    "from pyspark.sql.types import *\n",
    "from delta import *\n",
    "\n",
    "# ML библиотеки Spark\n",
    "from pyspark.ml.feature import VectorAssembler, StringIndexer, OneHotEncoder\n",
    "from pyspark.ml.regression import RandomForestRegressor, GBTRegressor\n",
    "from pyspark.ml.evaluation import RegressionEvaluator\n",
    "from pyspark.ml import Pipeline\n",
    "from pyspark.ml.tuning import ParamGridBuilder, CrossValidator\n",
    "\n",
    "# MLflow для логирования\n",
    "import mlflow\n",
    "import mlflow.spark\n",
    "from mlflow.tracking import MlflowClient\n",
    "\n",
    "print(\"Импорт библиотек завершен успешно\")"
   ]
  },
  {
   "cell_type": "code",
   "execution_count": 13,
   "metadata": {},
   "outputs": [
    {
     "name": "stdout",
     "output_type": "stream",
     "text": [
      "Spark session initialized\n",
      "Spark version: 3.5.0\n",
      "Available cores: 2\n"
     ]
    }
   ],
   "source": [
    "# Инициализация Spark с оптимизациями\n",
    "builder = (SparkSession.builder\n",
    "    .appName(\"Age Predictor ML Model\")\n",
    "    .master(\"spark://spark-standalone:7077\")\n",
    "    .config(\"spark.driver.host\", \"jupyter-spark\")\n",
    "    .config(\"spark.driver.bindAddress\", \"0.0.0.0\")\n",
    "    .config(\"spark.driver.port\", \"7078\")\n",
    "    .config(\"spark.blockManager.port\", \"7079\")\n",
    "    \n",
    "    # Delta Lake оптимизации\n",
    "    .config(\"spark.sql.extensions\", \"io.delta.sql.DeltaSparkSessionExtension\")\n",
    "    .config(\"spark.sql.catalog.spark_catalog\", \"org.apache.spark.sql.delta.catalog.DeltaCatalog\")\n",
    "    \n",
    "    # Оптимизации производительности\n",
    "    .config(\"spark.sql.adaptive.enabled\", \"true\")\n",
    "    .config(\"spark.sql.adaptive.coalescePartitions.enabled\", \"true\")\n",
    "    .config(\"spark.serializer\", \"org.apache.spark.serializer.KryoSerializer\")\n",
    ")\n",
    "\n",
    "# Создаем SparkSession\n",
    "spark = configure_spark_with_delta_pip(builder).getOrCreate()\n",
    "\n",
    "print(\"Spark session initialized\")\n",
    "print(f\"Spark version: {spark.version}\")\n",
    "print(f\"Available cores: {spark.sparkContext.defaultParallelism}\")"
   ]
  },
  {
   "cell_type": "code",
   "execution_count": 14,
   "metadata": {},
   "outputs": [
    {
     "name": "stdout",
     "output_type": "stream",
     "text": [
      "Создан новый эксперимент: age-predictor-spark\n",
      "MLflow настроен, experiment_id: 1\n"
     ]
    }
   ],
   "source": [
    "# Настройка MLflow\n",
    "# Устанавливаем tracking URI\n",
    "mlflow.set_tracking_uri(\"http://mlflow-server:5000\")\n",
    "\n",
    "# Создаем или получаем эксперимент\n",
    "experiment_name = \"age-predictor-spark\"\n",
    "try:\n",
    "    experiment_id = mlflow.create_experiment(experiment_name)\n",
    "    print(f\"Создан новый эксперимент: {experiment_name}\")\n",
    "except mlflow.exceptions.MlflowException:\n",
    "    experiment = mlflow.get_experiment_by_name(experiment_name)\n",
    "    experiment_id = experiment.experiment_id\n",
    "    print(f\"Используется существующий эксперимент: {experiment_name}\")\n",
    "\n",
    "mlflow.set_experiment(experiment_name)\n",
    "print(f\"MLflow настроен, experiment_id: {experiment_id}\")"
   ]
  },
  {
   "cell_type": "markdown",
   "metadata": {},
   "source": [
    "## Загрузка данных из Gold слоя\n",
    "\n",
    "Загружаем очищенные данные из silver слоя, которые будут использованы для обучения модели."
   ]
  },
  {
   "cell_type": "code",
   "execution_count": 15,
   "metadata": {},
   "outputs": [
    {
     "name": "stdout",
     "output_type": "stream",
     "text": [
      "Загружено записей: 19482\n",
      "\n",
      "Схема данных:\n",
      "root\n",
      " |-- user_id: long (nullable = true)\n",
      " |-- region_name: string (nullable = true)\n",
      " |-- city_name: string (nullable = true)\n",
      " |-- cpe_manufacturer_name: string (nullable = true)\n",
      " |-- cpe_model_name: string (nullable = true)\n",
      " |-- url_host: string (nullable = true)\n",
      " |-- cpe_type_cd: string (nullable = true)\n",
      " |-- cpe_model_os_type: string (nullable = true)\n",
      " |-- price: double (nullable = true)\n",
      " |-- date: timestamp (nullable = true)\n",
      " |-- part_of_day: string (nullable = true)\n",
      " |-- request_cnt: long (nullable = true)\n",
      " |-- age: double (nullable = true)\n",
      " |-- is_male: string (nullable = true)\n",
      "\n",
      "\n",
      "Пример данных:\n",
      "+-------+-------------------+---------------+---------------------+-------------------+--------------------+-----------+-----------------+-------+-------------------+-----------+-----------+----+-------+\n",
      "|user_id|        region_name|      city_name|cpe_manufacturer_name|     cpe_model_name|            url_host|cpe_type_cd|cpe_model_os_type|  price|               date|part_of_day|request_cnt| age|is_male|\n",
      "+-------+-------------------+---------------+---------------------+-------------------+--------------------+-----------+-----------------+-------+-------------------+-----------+-----------+----+-------+\n",
      "|     16|Челябинская область|   Магнитогорск|              Samsung|    Galaxy A10 Dual|avatars.mds.yande...| smartphone|          Android| 9583.0|2021-06-29 00:00:00|        day|          1|63.0|      0|\n",
      "|     26|    Санкт-Петербург|Санкт-Петербург|              Samsung|Galaxy A7 2017 Dual|          ad.mail.ru| smartphone|          Android| 4990.0|2021-06-30 00:00:00|    evening|          1|59.0|      0|\n",
      "|     29| Московская область|        Люберцы|                Apple|      iPhone 8 Plus|          google.com| smartphone|              iOS|45696.0|2021-06-29 00:00:00|        day|          1|30.0|      0|\n",
      "|     61| Краснодарский край|         Туапсе|                Apple|          iPhone XR|           apple.com| smartphone|              iOS|49572.0|2022-02-27 00:00:00|        day|          1|25.0|      0|\n",
      "|    125| Смоленская область|         Вязьма|               Huawei|           Honor 8A|         careerix.ru| smartphone|          Android| 8010.0|2021-07-06 00:00:00|    morning|          1|43.0|      0|\n",
      "+-------+-------------------+---------------+---------------------+-------------------+--------------------+-----------+-----------------+-------+-------------------+-----------+-----------+----+-------+\n",
      "only showing top 5 rows\n",
      "\n"
     ]
    }
   ],
   "source": [
    "# Загрузка основного датасета из silver слоя для обучения\n",
    "silver_path = \"/opt/data/silver\"\n",
    "gold_path = \"/opt/data/gold\"\n",
    "\n",
    "# Загружаем основной датасет\n",
    "df = spark.read.format(\"delta\").load(f\"{silver_path}/cleaned_dataset\")\n",
    "\n",
    "print(f\"Загружено записей: {df.count()}\")\n",
    "print(\"\\nСхема данных:\")\n",
    "df.printSchema()\n",
    "\n",
    "print(\"\\nПример данных:\")\n",
    "df.show(5)"
   ]
  },
  {
   "cell_type": "code",
   "execution_count": 16,
   "metadata": {},
   "outputs": [
    {
     "name": "stdout",
     "output_type": "stream",
     "text": [
      "Загрузка дополнительных данных из gold слоя...\n",
      "Статистика по производителям: 29 записей\n",
      "Статистика по регионам: 80 записей\n",
      "Временные паттерны: 12 записей\n",
      "\n",
      "Дополнительные данные загружены\n"
     ]
    }
   ],
   "source": [
    "# Загрузка дополнительных данных из gold слоя для обогащения признаков\n",
    "print(\"Загрузка дополнительных данных из gold слоя...\")\n",
    "\n",
    "# Статистика по производителям\n",
    "manufacturer_stats = spark.read.format(\"delta\").load(f\"{gold_path}/manufacturer_statistics\")\n",
    "print(f\"Статистика по производителям: {manufacturer_stats.count()} записей\")\n",
    "\n",
    "# Статистика по регионам\n",
    "region_stats = spark.read.format(\"delta\").load(f\"{gold_path}/region_statistics\")\n",
    "print(f\"Статистика по регионам: {region_stats.count()} записей\")\n",
    "\n",
    "# Временные паттерны\n",
    "time_patterns = spark.read.format(\"delta\").load(f\"{gold_path}/time_patterns\")\n",
    "print(f\"Временные паттерны: {time_patterns.count()} записей\")\n",
    "\n",
    "print(\"\\nДополнительные данные загружены\")"
   ]
  },
  {
   "cell_type": "markdown",
   "metadata": {},
   "source": [
    "## Подготовка данных для машинного обучения\n",
    "\n",
    "Обогащаем основной датасет статистиками из gold слоя и подготавливаем признаки для обучения модели."
   ]
  },
  {
   "cell_type": "code",
   "execution_count": 17,
   "metadata": {},
   "outputs": [
    {
     "name": "stdout",
     "output_type": "stream",
     "text": [
      "Обогащение данных статистиками...\n",
      "Данные обогащены, записей: 19482\n",
      "Колонок: 22\n"
     ]
    }
   ],
   "source": [
    "# Обогащение данных статистиками из gold слоя\n",
    "print(\"Обогащение данных статистиками...\")\n",
    "\n",
    "# Добавляем статистику по производителям\n",
    "manufacturer_features = manufacturer_stats.select(\n",
    "    col(\"cpe_manufacturer_name\"),\n",
    "    col(\"avg_user_age\").alias(\"manufacturer_avg_age\"),\n",
    "    col(\"avg_device_price\").alias(\"manufacturer_avg_price\"),\n",
    "    col(\"male_percentage\").alias(\"manufacturer_male_pct\")\n",
    ")\n",
    "\n",
    "df_enriched = df.join(manufacturer_features, \"cpe_manufacturer_name\", \"left\")\n",
    "\n",
    "# Добавляем статистику по регионам\n",
    "region_features = region_stats.select(\n",
    "    col(\"region_name\"),\n",
    "    col(\"avg_user_age\").alias(\"region_avg_age\"),\n",
    "    col(\"avg_device_price\").alias(\"region_avg_price\"),\n",
    "    col(\"ios_percentage\").alias(\"region_ios_pct\")\n",
    ")\n",
    "\n",
    "df_enriched = df_enriched.join(region_features, \"region_name\", \"left\")\n",
    "\n",
    "# Добавляем временные паттерны\n",
    "time_features = time_patterns.select(\n",
    "    col(\"part_of_day\"),\n",
    "    col(\"cpe_model_os_type\"),\n",
    "    col(\"avg_user_age\").alias(\"time_pattern_avg_age\"),\n",
    "    col(\"total_request_count\").alias(\"time_pattern_requests\")\n",
    ")\n",
    "\n",
    "df_enriched = df_enriched.join(\n",
    "    time_features, \n",
    "    [\"part_of_day\", \"cpe_model_os_type\"], \n",
    "    \"left\"\n",
    ")\n",
    "\n",
    "print(f\"Данные обогащены, записей: {df_enriched.count()}\")\n",
    "print(f\"Колонок: {len(df_enriched.columns)}\")"
   ]
  },
  {
   "cell_type": "code",
   "execution_count": 18,
   "metadata": {},
   "outputs": [
    {
     "name": "stdout",
     "output_type": "stream",
     "text": [
      "Создание дополнительных признаков...\n",
      "Дополнительные признаки созданы\n",
      "Итоговых колонок: 28\n"
     ]
    }
   ],
   "source": [
    "# Создание дополнительных признаков\n",
    "print(\"Создание дополнительных признаков...\")\n",
    "\n",
    "df_features = df_enriched \\\n",
    "    .withColumn(\"price_log\", log(col(\"price\") + 1)) \\\n",
    "    .withColumn(\"request_cnt_log\", log(col(\"request_cnt\") + 1)) \\\n",
    "    .withColumn(\"price_per_request\", col(\"price\") / (col(\"request_cnt\") + 1)) \\\n",
    "    .withColumn(\"is_expensive_device\", when(col(\"price\") > 30000, 1).otherwise(0)) \\\n",
    "    .withColumn(\"is_ios\", when(col(\"cpe_model_os_type\") == \"iOS\", 1).otherwise(0)) \\\n",
    "    .withColumn(\"is_male_int\", col(\"is_male\").cast(IntegerType()))\n",
    "\n",
    "# Заполняем пропуски\n",
    "df_features = df_features.fillna({\n",
    "    \"manufacturer_avg_age\": 35.0,\n",
    "    \"manufacturer_avg_price\": 20000.0,\n",
    "    \"manufacturer_male_pct\": 50.0,\n",
    "    \"region_avg_age\": 35.0,\n",
    "    \"region_avg_price\": 20000.0,\n",
    "    \"region_ios_pct\": 30.0,\n",
    "    \"time_pattern_avg_age\": 35.0,\n",
    "    \"time_pattern_requests\": 1000\n",
    "})\n",
    "\n",
    "print(\"Дополнительные признаки созданы\")\n",
    "print(f\"Итоговых колонок: {len(df_features.columns)}\")"
   ]
  },
  {
   "cell_type": "code",
   "execution_count": 19,
   "metadata": {},
   "outputs": [
    {
     "name": "stdout",
     "output_type": "stream",
     "text": [
      "Данных для ML после фильтрации: 19474\n",
      "\n",
      "Статистика по возрасту:\n",
      "+-------+-----------------+\n",
      "|summary|              age|\n",
      "+-------+-----------------+\n",
      "|  count|            19474|\n",
      "|   mean|38.95060080106809|\n",
      "| stddev| 11.7993470961305|\n",
      "|    min|             14.0|\n",
      "|    max|             80.0|\n",
      "+-------+-----------------+\n",
      "\n"
     ]
    }
   ],
   "source": [
    "# Фильтруем данные с валидным возрастом\n",
    "df_ml = df_features.filter(\n",
    "    (col(\"age\").isNotNull()) & \n",
    "    (col(\"age\") >= 14) & \n",
    "    (col(\"age\") <= 80)\n",
    ")\n",
    "\n",
    "print(f\"Данных для ML после фильтрации: {df_ml.count()}\")\n",
    "\n",
    "# Статистика по целевой переменной\n",
    "age_stats = df_ml.select(\"age\").describe()\n",
    "print(\"\\nСтатистика по возрасту:\")\n",
    "age_stats.show()"
   ]
  },
  {
   "cell_type": "code",
   "execution_count": 20,
   "metadata": {},
   "outputs": [
    {
     "name": "stdout",
     "output_type": "stream",
     "text": [
      "Подготовка категориальных признаков...\n",
      "Подготовлено 4 категориальных признаков\n"
     ]
    }
   ],
   "source": [
    "# Подготовка категориальных признаков\n",
    "print(\"Подготовка категориальных признаков...\")\n",
    "\n",
    "categorical_columns = [\n",
    "    \"region_name\",\n",
    "    \"cpe_manufacturer_name\", \n",
    "    \"cpe_model_os_type\",\n",
    "    \"part_of_day\"\n",
    "]\n",
    "\n",
    "# Создаем индексеры и энкодеры для категориальных переменных\n",
    "indexers = []\n",
    "encoders = []\n",
    "\n",
    "for col_name in categorical_columns:\n",
    "    indexer = StringIndexer(\n",
    "        inputCol=col_name, \n",
    "        outputCol=f\"{col_name}_index\",\n",
    "        handleInvalid=\"keep\"\n",
    "    )\n",
    "    encoder = OneHotEncoder(\n",
    "        inputCol=f\"{col_name}_index\", \n",
    "        outputCol=f\"{col_name}_encoded\"\n",
    "    )\n",
    "    indexers.append(indexer)\n",
    "    encoders.append(encoder)\n",
    "\n",
    "print(f\"Подготовлено {len(categorical_columns)} категориальных признаков\")"
   ]
  },
  {
   "cell_type": "code",
   "execution_count": 21,
   "metadata": {},
   "outputs": [
    {
     "name": "stdout",
     "output_type": "stream",
     "text": [
      "Числовых признаков: 16\n",
      "Категориальных признаков: 4\n",
      "Всего признаков: 20\n"
     ]
    }
   ],
   "source": [
    "# Определяем числовые признаки\n",
    "numerical_features = [\n",
    "    \"price\", \"price_log\", \"request_cnt\", \"request_cnt_log\", \n",
    "    \"price_per_request\", \"is_expensive_device\", \"is_ios\", \"is_male_int\",\n",
    "    \"manufacturer_avg_age\", \"manufacturer_avg_price\", \"manufacturer_male_pct\",\n",
    "    \"region_avg_age\", \"region_avg_price\", \"region_ios_pct\",\n",
    "    \"time_pattern_avg_age\", \"time_pattern_requests\"\n",
    "]\n",
    "\n",
    "# Кодированные категориальные признаки\n",
    "encoded_features = [f\"{col}_encoded\" for col in categorical_columns]\n",
    "\n",
    "# Все признаки для модели\n",
    "all_features = numerical_features + encoded_features\n",
    "\n",
    "print(f\"Числовых признаков: {len(numerical_features)}\")\n",
    "print(f\"Категориальных признаков: {len(encoded_features)}\")\n",
    "print(f\"Всего признаков: {len(all_features)}\")"
   ]
  },
  {
   "cell_type": "markdown",
   "metadata": {},
   "source": [
    "## Создание ML Pipeline и обучение модели\n",
    "\n",
    "Создаем пайплайн машинного обучения с обработкой признаков и обучением модели."
   ]
  },
  {
   "cell_type": "code",
   "execution_count": 22,
   "metadata": {},
   "outputs": [
    {
     "name": "stdout",
     "output_type": "stream",
     "text": [
      "Пайплайн создан с 10 этапами\n"
     ]
    }
   ],
   "source": [
    "# Создание векторного ассемблера\n",
    "vector_assembler = VectorAssembler(\n",
    "    inputCols=all_features,\n",
    "    outputCol=\"features\",\n",
    "    handleInvalid=\"skip\"\n",
    ")\n",
    "\n",
    "# Создание модели Random Forest\n",
    "rf = RandomForestRegressor(\n",
    "    featuresCol=\"features\",\n",
    "    labelCol=\"age\",\n",
    "    numTrees=100,\n",
    "    maxDepth=10,\n",
    "    seed=42\n",
    ")\n",
    "\n",
    "# Создание полного пайплайна\n",
    "pipeline_stages = indexers + encoders + [vector_assembler, rf]\n",
    "pipeline = Pipeline(stages=pipeline_stages)\n",
    "\n",
    "print(f\"Пайплайн создан с {len(pipeline_stages)} этапами\")"
   ]
  },
  {
   "cell_type": "code",
   "execution_count": 23,
   "metadata": {},
   "outputs": [
    {
     "name": "stdout",
     "output_type": "stream",
     "text": [
      "Разделение данных на train/test...\n",
      "Обучающая выборка: 15693 записей\n",
      "Тестовая выборка: 3781 записей\n"
     ]
    },
    {
     "data": {
      "text/plain": [
       "DataFrame[part_of_day: string, cpe_model_os_type: string, region_name: string, cpe_manufacturer_name: string, user_id: bigint, city_name: string, cpe_model_name: string, url_host: string, cpe_type_cd: string, price: double, date: timestamp, request_cnt: bigint, age: double, is_male: string, manufacturer_avg_age: double, manufacturer_avg_price: double, manufacturer_male_pct: double, region_avg_age: double, region_avg_price: double, region_ios_pct: double, time_pattern_avg_age: double, time_pattern_requests: bigint, price_log: double, request_cnt_log: double, price_per_request: double, is_expensive_device: int, is_ios: int, is_male_int: int]"
      ]
     },
     "execution_count": 23,
     "metadata": {},
     "output_type": "execute_result"
    }
   ],
   "source": [
    "# Разделение данных на train/test\n",
    "print(\"Разделение данных на train/test...\")\n",
    "\n",
    "# Кэшируем данные для ускорения\n",
    "df_ml.cache()\n",
    "\n",
    "train_data, test_data = df_ml.randomSplit([0.8, 0.2], seed=42)\n",
    "\n",
    "print(f\"Обучающая выборка: {train_data.count()} записей\")\n",
    "print(f\"Тестовая выборка: {test_data.count()} записей\")\n",
    "\n",
    "# Кэшируем разделенные данные\n",
    "train_data.cache()\n",
    "test_data.cache()"
   ]
  },
  {
   "cell_type": "code",
   "execution_count": 24,
   "metadata": {},
   "outputs": [
    {
     "name": "stdout",
     "output_type": "stream",
     "text": [
      "Настройка гиперпараметров...\n",
      "Настроена кросс-валидация с 8 комбинациями параметров\n"
     ]
    }
   ],
   "source": [
    "# Настройка гиперпараметров для кросс-валидации\n",
    "print(\"Настройка гиперпараметров...\")\n",
    "\n",
    "param_grid = ParamGridBuilder() \\\n",
    "    .addGrid(rf.numTrees, [50, 100]) \\\n",
    "    .addGrid(rf.maxDepth, [8, 10]) \\\n",
    "    .addGrid(rf.subsamplingRate, [0.8, 1.0]) \\\n",
    "    .build()\n",
    "\n",
    "# Создание оценщика\n",
    "evaluator = RegressionEvaluator(\n",
    "    labelCol=\"age\",\n",
    "    predictionCol=\"prediction\",\n",
    "    metricName=\"rmse\"\n",
    ")\n",
    "\n",
    "# Кросс-валидация\n",
    "cv = CrossValidator(\n",
    "    estimator=pipeline,\n",
    "    estimatorParamMaps=param_grid,\n",
    "    evaluator=evaluator,\n",
    "    numFolds=3,\n",
    "    seed=42\n",
    ")\n",
    "\n",
    "print(f\"Настроена кросс-валидация с {len(param_grid)} комбинациями параметров\")"
   ]
  },
  {
   "cell_type": "code",
   "execution_count": 26,
   "metadata": {},
   "outputs": [
    {
     "name": "stdout",
     "output_type": "stream",
     "text": [
      "Начало обучения модели...\n",
      "Модель обучена успешно!\n",
      "  numTrees: 100\n",
      "  maxDepth: <bound method _DecisionTreeParams.getMaxDepth of RandomForestRegressionModel: uid=RandomForestRegressor_1c10ed6dad8d, numTrees=100, numFeatures=131>\n",
      "  subsamplingRate: <bound method _TreeEnsembleParams.getSubsamplingRate of RandomForestRegressionModel: uid=RandomForestRegressor_1c10ed6dad8d, numTrees=100, numFeatures=131>\n",
      "Run ID: 9bc38cc56a7f4ac08b1e3e2ba3ab9ac7\n"
     ]
    }
   ],
   "source": [
    "# Обучение модели с логированием в MLflow\n",
    "with mlflow.start_run(run_name=\"RandomForest_Age_Prediction\") as run:\n",
    "    \n",
    "    print(\"Начало обучения модели...\")\n",
    "    \n",
    "    # Логируем параметры датасета\n",
    "    mlflow.log_param(\"train_size\", train_data.count())\n",
    "    mlflow.log_param(\"test_size\", test_data.count())\n",
    "    mlflow.log_param(\"num_features\", len(all_features))\n",
    "    mlflow.log_param(\"numerical_features\", len(numerical_features))\n",
    "    mlflow.log_param(\"categorical_features\", len(categorical_columns))\n",
    "    \n",
    "    # Обучение модели\n",
    "    cv_model = cv.fit(train_data)\n",
    "    \n",
    "    # Получаем лучшую модель\n",
    "    best_model = cv_model.bestModel\n",
    "    best_rf_model = best_model.stages[-1]  # Random Forest - последний этап пайплайна\n",
    "\n",
    "    num_trees        = best_rf_model.getNumTrees\n",
    "    max_depth        = best_rf_model.getMaxDepth\n",
    "    subsampling_rate = best_rf_model.getSubsamplingRate\n",
    "\n",
    "    # Логируем лучшие параметры\n",
    "    mlflow.log_param(\"best_numTrees\",        num_trees)\n",
    "    mlflow.log_param(\"best_maxDepth\",        max_depth)\n",
    "    mlflow.log_param(\"best_subsamplingRate\", subsampling_rate)\n",
    "\n",
    "    print(\"Модель обучена успешно!\")\n",
    "    print(f\"  numTrees: {num_trees}\")\n",
    "    print(f\"  maxDepth: {max_depth}\")\n",
    "    print(f\"  subsamplingRate: {subsampling_rate}\")\n",
    "\n",
    "    run_id = run.info.run_id\n",
    "    print(\"Run ID:\", run_id)"
   ]
  },
  {
   "cell_type": "markdown",
   "metadata": {},
   "source": [
    "## Оценка модели и логирование метрик"
   ]
  },
  {
   "cell_type": "code",
   "execution_count": 27,
   "metadata": {},
   "outputs": [
    {
     "name": "stdout",
     "output_type": "stream",
     "text": [
      "Выполнение предсказаний...\n",
      "\n",
      "=== МЕТРИКИ МОДЕЛИ ===\n",
      "Тестовые данные:\n",
      "  RMSE: 11.0599\n",
      "  MAE:  8.9692\n",
      "  R²:   0.1077\n",
      "\n",
      "Обучающие данные:\n",
      "  RMSE: 10.6720\n",
      "  MAE:  8.6414\n",
      "  R²:   0.1757\n",
      "\n",
      "Переобучение:\n",
      "  RMSE разница: -0.3880\n",
      "  MAE разница:  -0.3278\n"
     ]
    }
   ],
   "source": [
    "# Предсказания на тестовых данных\n",
    "print(\"Выполнение предсказаний...\")\n",
    "\n",
    "test_predictions = best_model.transform(test_data)\n",
    "train_predictions = best_model.transform(train_data)\n",
    "\n",
    "# Вычисление метрик\n",
    "rmse_evaluator = RegressionEvaluator(labelCol=\"age\", predictionCol=\"prediction\", metricName=\"rmse\")\n",
    "mae_evaluator = RegressionEvaluator(labelCol=\"age\", predictionCol=\"prediction\", metricName=\"mae\")\n",
    "r2_evaluator = RegressionEvaluator(labelCol=\"age\", predictionCol=\"prediction\", metricName=\"r2\")\n",
    "\n",
    "# Метрики на тестовых данных\n",
    "test_rmse = rmse_evaluator.evaluate(test_predictions)\n",
    "test_mae = mae_evaluator.evaluate(test_predictions)\n",
    "test_r2 = r2_evaluator.evaluate(test_predictions)\n",
    "\n",
    "# Метрики на обучающих данных\n",
    "train_rmse = rmse_evaluator.evaluate(train_predictions)\n",
    "train_mae = mae_evaluator.evaluate(train_predictions)\n",
    "train_r2 = r2_evaluator.evaluate(train_predictions)\n",
    "\n",
    "# Логируем метрики\n",
    "mlflow.log_metric(\"test_rmse\", test_rmse)\n",
    "mlflow.log_metric(\"test_mae\", test_mae)\n",
    "mlflow.log_metric(\"test_r2\", test_r2)\n",
    "mlflow.log_metric(\"train_rmse\", train_rmse)\n",
    "mlflow.log_metric(\"train_mae\", train_mae)\n",
    "mlflow.log_metric(\"train_r2\", train_r2)\n",
    "\n",
    "# Логируем разницу (переобучение)\n",
    "mlflow.log_metric(\"overfitting_rmse\", train_rmse - test_rmse)\n",
    "mlflow.log_metric(\"overfitting_mae\", train_mae - test_mae)\n",
    "\n",
    "print(\"\\n=== МЕТРИКИ МОДЕЛИ ===\")\n",
    "print(f\"Тестовые данные:\")\n",
    "print(f\"  RMSE: {test_rmse:.4f}\")\n",
    "print(f\"  MAE:  {test_mae:.4f}\")\n",
    "print(f\"  R²:   {test_r2:.4f}\")\n",
    "\n",
    "print(f\"\\nОбучающие данные:\")\n",
    "print(f\"  RMSE: {train_rmse:.4f}\")\n",
    "print(f\"  MAE:  {train_mae:.4f}\")\n",
    "print(f\"  R²:   {train_r2:.4f}\")\n",
    "\n",
    "print(f\"\\nПереобучение:\")\n",
    "print(f\"  RMSE разница: {train_rmse - test_rmse:.4f}\")\n",
    "print(f\"  MAE разница:  {train_mae - test_mae:.4f}\")"
   ]
  },
  {
   "cell_type": "code",
   "execution_count": 28,
   "metadata": {},
   "outputs": [
    {
     "name": "stdout",
     "output_type": "stream",
     "text": [
      "\n",
      "Анализ важности признаков...\n",
      "\n",
      "Топ-10 самых важных признаков:\n",
      " 1. price                          0.1681\n",
      " 2. price_log                      0.1133\n",
      " 3. is_expensive_device            0.0934\n",
      " 4. is_male_int                    0.0832\n",
      " 5. region_avg_age                 0.0769\n",
      " 6. price_per_request              0.0587\n",
      " 7. region_ios_pct                 0.0396\n",
      " 8. manufacturer_male_pct          0.0362\n",
      " 9. time_pattern_requests          0.0245\n",
      "10. time_pattern_avg_age           0.0211\n"
     ]
    }
   ],
   "source": [
    "# Анализ важности признаков\n",
    "print(\"\\nАнализ важности признаков...\")\n",
    "\n",
    "feature_importances = best_rf_model.featureImportances.toArray()\n",
    "\n",
    "# Создаем список признаков с их важностью\n",
    "feature_importance_data = []\n",
    "for i, importance in enumerate(feature_importances):\n",
    "    if i < len(all_features):\n",
    "        feature_importance_data.append((all_features[i], float(importance)))\n",
    "\n",
    "# Сортируем по важности\n",
    "feature_importance_data.sort(key=lambda x: x[1], reverse=True)\n",
    "\n",
    "print(\"\\nТоп-10 самых важных признаков:\")\n",
    "for i, (feature, importance) in enumerate(feature_importance_data[:10]):\n",
    "    print(f\"{i+1:2d}. {feature:<30} {importance:.4f}\")\n",
    "    mlflow.log_metric(f\"feature_importance_{feature}\", importance)\n",
    "\n",
    "# Логируем важность топ-5 признаков отдельно\n",
    "for i, (feature, importance) in enumerate(feature_importance_data[:5]):\n",
    "    mlflow.log_metric(f\"top_{i+1}_feature_importance\", importance)"
   ]
  },
  {
   "cell_type": "code",
   "execution_count": null,
   "metadata": {},
   "outputs": [],
   "source": [
    "# Сохранение модели в MLflow\n",
    "print(\"\\nСохранение модели в MLflow...\")\n",
    "\n",
    "# TODO: Добавить права на папку. Сейчас ошибка сохранения из-за отсутвия прав на папку /mlartifacts\n",
    "\n",
    "# Логируем модель\n",
    "mlflow.spark.log_model(\n",
    "    spark_model=best_model,\n",
    "    artifact_path=\"artifacts\",\n",
    "    registered_model_name=\"age-predictor-random-forest\"\n",
    ")\n",
    "\n",
    "# Сохраняем дополнительную информацию\n",
    "model_info = {\n",
    "    \"model_type\": \"RandomForestRegressor\",\n",
    "    \"framework\": \"PySpark MLlib\",\n",
    "    \"target_variable\": \"age\",\n",
    "    \"features_used\": all_features,\n",
    "    \"data_source\": \"gold_layer\"\n",
    "}\n",
    "\n",
    "mlflow.log_dict(model_info, \"model_info.json\")\n",
    "\n",
    "print(f\"Модель сохранена в MLflow с run_id: {run.info.run_id}\")\n",
    "\n",
    "# Сохраняем run_id для дальнейшего использования\n",
    "run_id = run.info.run_id"
   ]
  },
  {
   "cell_type": "code",
   "execution_count": 48,
   "metadata": {},
   "outputs": [
    {
     "name": "stdout",
     "output_type": "stream",
     "text": [
      "Модель сохранена локально в: /home/jovyan/data/age_rf_model\n"
     ]
    }
   ],
   "source": [
    "# Временный обходной путь :)\n",
    "tmp_model_path = \"/home/jovyan/data/age_rf_model\"\n",
    "best_model.write().overwrite().save(tmp_model_path)\n",
    "print(\"Модель сохранена локально в:\", tmp_model_path)"
   ]
  },
  {
   "cell_type": "markdown",
   "metadata": {},
   "source": [
    "## Дополнительная оценка модели по сегментам"
   ]
  },
  {
   "cell_type": "code",
   "execution_count": 30,
   "metadata": {},
   "outputs": [
    {
     "name": "stdout",
     "output_type": "stream",
     "text": [
      "Анализ производительности по сегментам...\n",
      "\n",
      "Производительность по операционным системам:\n",
      "+-----------------+-----+-----------------+-----------------+-----------------+\n",
      "|cpe_model_os_type|count|    avg_abs_error|   avg_actual_age|avg_predicted_age|\n",
      "+-----------------+-----+-----------------+-----------------+-----------------+\n",
      "|              iOS| 1114|8.512885823181312|35.10592459605027| 34.8760403826548|\n",
      "|        Apple iOS|   12|12.84349364646937|            41.25|33.74091721330873|\n",
      "|          Android| 2473|9.155901845042736|40.45208249090174|40.86519560978756|\n",
      "+-----------------+-----+-----------------+-----------------+-----------------+\n",
      "\n",
      "\n",
      "Производительность по ценовым сегментам:\n",
      "+-------------+-----+-----------------+------------------+-----------------+\n",
      "|price_segment|count|    avg_abs_error|    avg_actual_age|avg_predicted_age|\n",
      "+-------------+-----+-----------------+------------------+-----------------+\n",
      "|       luxury|  662|7.780339108962179| 34.14803625377643|34.17288443249355|\n",
      "|    mid_range| 1763|9.117056802588113|39.660805445263755|40.16244586128643|\n",
      "|       budget|  732|9.899075921848091|42.372950819672134|42.67890341092254|\n",
      "|      premium|  442|8.619780058107864| 36.41628959276018|35.39961513866004|\n",
      "+-------------+-----+-----------------+------------------+-----------------+\n",
      "\n",
      "\n",
      "Производительность по полу:\n",
      "+-------+-----+-----------------+------------------+------------------+\n",
      "|is_male|count|    avg_abs_error|    avg_actual_age| avg_predicted_age|\n",
      "+-------+-----+-----------------+------------------+------------------+\n",
      "|      0| 1764|9.257490317835021| 40.32312925170068|40.063934070439444|\n",
      "|      1| 1835|8.691994045183273|37.335694822888286| 37.95294225372561|\n",
      "+-------+-----+-----------------+------------------+------------------+\n",
      "\n"
     ]
    }
   ],
   "source": [
    "# Анализ производительности модели по разным сегментам\n",
    "print(\"Анализ производительности по сегментам...\")\n",
    "\n",
    "# По операционным системам\n",
    "print(\"\\nПроизводительность по операционным системам:\")\n",
    "os_performance = test_predictions.groupBy(\"cpe_model_os_type\") \\\n",
    "    .agg(\n",
    "        count(\"*\").alias(\"count\"),\n",
    "        avg(abs(col(\"age\") - col(\"prediction\"))).alias(\"avg_abs_error\"),\n",
    "        avg(col(\"age\")).alias(\"avg_actual_age\"),\n",
    "        avg(col(\"prediction\")).alias(\"avg_predicted_age\")\n",
    "    )\n",
    "\n",
    "os_performance.show()\n",
    "\n",
    "# По ценовым сегментам\n",
    "print(\"\\nПроизводительность по ценовым сегментам:\")\n",
    "price_segments_performance = test_predictions \\\n",
    "    .withColumn(\"price_segment\", \n",
    "        when(col(\"price\") < 10000, \"budget\")\n",
    "        .when(col(\"price\") < 30000, \"mid_range\")\n",
    "        .when(col(\"price\") < 50000, \"premium\")\n",
    "        .otherwise(\"luxury\")\n",
    "    ) \\\n",
    "    .groupBy(\"price_segment\") \\\n",
    "    .agg(\n",
    "        count(\"*\").alias(\"count\"),\n",
    "        avg(abs(col(\"age\") - col(\"prediction\"))).alias(\"avg_abs_error\"),\n",
    "        avg(col(\"age\")).alias(\"avg_actual_age\"),\n",
    "        avg(col(\"prediction\")).alias(\"avg_predicted_age\")\n",
    "    )\n",
    "\n",
    "price_segments_performance.show()\n",
    "\n",
    "# По полу\n",
    "print(\"\\nПроизводительность по полу:\")\n",
    "gender_performance = test_predictions.groupBy(\"is_male\") \\\n",
    "    .agg(\n",
    "        count(\"*\").alias(\"count\"),\n",
    "        avg(abs(col(\"age\") - col(\"prediction\"))).alias(\"avg_abs_error\"),\n",
    "        avg(col(\"age\")).alias(\"avg_actual_age\"),\n",
    "        avg(col(\"prediction\")).alias(\"avg_predicted_age\")\n",
    "    )\n",
    "\n",
    "gender_performance.show()"
   ]
  },
  {
   "cell_type": "markdown",
   "metadata": {},
   "source": [
    "## Финализация и очистка"
   ]
  },
  {
   "cell_type": "code",
   "execution_count": 31,
   "metadata": {},
   "outputs": [
    {
     "name": "stdout",
     "output_type": "stream",
     "text": [
      "\n",
      "Анализ предсказаний...\n",
      "\n",
      "Примеры предсказаний на тестовых данных:\n",
      "+----+------------------+---------------------+-------+----------------+-------+\n",
      "|age |prediction        |cpe_manufacturer_name|price  |region_name     |is_male|\n",
      "+----+------------------+---------------------+-------+----------------+-------+\n",
      "|39.0|41.036427301988404|Huawei               |6990.0 |Алтайский край  |1      |\n",
      "|67.0|41.0383782526698  |Huawei               |7992.0 |Алтайский край  |1      |\n",
      "|39.0|36.56842325505082 |Huawei               |20657.0|Алтайский край  |1      |\n",
      "|42.0|40.600735591301145|Huawei               |13755.0|Алтайский край  |0      |\n",
      "|23.0|40.19540808469163 |Samsung              |17439.0|Алтайский край  |1      |\n",
      "|34.0|37.40326114093041 |Samsung              |30421.0|Алтайский край  |1      |\n",
      "|21.0|40.89294136162046 |Samsung              |3990.0 |Алтайский край  |1      |\n",
      "|58.0|44.478360045895904|Xiaomi               |9451.0 |Алтайский край  |0      |\n",
      "|62.0|44.61973242517967 |Huawei               |7469.0 |Амурская область|0      |\n",
      "|30.0|39.72199230828252 |Huawei               |1990.0 |Амурская область|1      |\n",
      "+----+------------------+---------------------+-------+----------------+-------+\n",
      "\n",
      "\n",
      "Статистика по абсолютным ошибкам:\n",
      "+-------+-------------------+\n",
      "|summary|              error|\n",
      "+-------+-------------------+\n",
      "|  count|               3599|\n",
      "|   mean|   8.96916421049522|\n",
      "| stddev|   6.47204702747136|\n",
      "|    min|0.00199403902417572|\n",
      "|    max| 38.332237573411504|\n",
      "+-------+-------------------+\n",
      "\n"
     ]
    }
   ],
   "source": [
    "# Анализ предсказаний\n",
    "print(\"\\nАнализ предсказаний...\")\n",
    "\n",
    "# Примеры предсказаний\n",
    "sample_predictions = test_predictions.select(\n",
    "    \"age\", \"prediction\", \"cpe_manufacturer_name\", \n",
    "    \"price\", \"region_name\", \"is_male\"\n",
    ").limit(10)\n",
    "\n",
    "print(\"\\nПримеры предсказаний на тестовых данных:\")\n",
    "sample_predictions.show(10, truncate=False)\n",
    "\n",
    "# Статистика по ошибкам\n",
    "predictions_with_error = test_predictions.withColumn(\n",
    "    \"error\", abs(col(\"age\") - col(\"prediction\"))\n",
    ")\n",
    "\n",
    "error_stats = predictions_with_error.select(\"error\").describe()\n",
    "print(\"\\nСтатистика по абсолютным ошибкам:\")\n",
    "error_stats.show()\n",
    "\n",
    "# Логируем дополнительные метрики\n",
    "error_percentiles = predictions_with_error.approxQuantile(\"error\", [0.5, 0.75, 0.9, 0.95], 0.01)\n",
    "mlflow.log_metric(\"error_median\", error_percentiles[0])\n",
    "mlflow.log_metric(\"error_75th_percentile\", error_percentiles[1])\n",
    "mlflow.log_metric(\"error_90th_percentile\", error_percentiles[2])\n",
    "mlflow.log_metric(\"error_95th_percentile\", error_percentiles[3])"
   ]
  },
  {
   "cell_type": "code",
   "execution_count": 40,
   "metadata": {},
   "outputs": [
    {
     "name": "stdout",
     "output_type": "stream",
     "text": [
      "\n",
      "==================================================\n",
      "СВОДКА ПО ML\n",
      "==================================================\n",
      "MLflow Run ID: 9bc38cc56a7f4ac08b1e3e2ba3ab9ac7\n",
      "Модель: RandomForestRegressor\n",
      "Данные: Gold слой Age Predictor\n",
      "Размер обучающей выборки: 15,693\n",
      "Размер тестовой выборки: 3,781\n",
      "Количество признаков: 20\n",
      "Лучшие параметры:\n",
      "  - NumTrees: 100\n",
      "  - MaxDepth: 8\n",
      "  - SubsamplingRate: 0.8\n",
      "Итоговые метрики:\n",
      "  - Test RMSE: 11.0599\n",
      "  - Test MAE: 8.9692\n",
      "  - Test R²: 0.1077\n",
      "==================================================\n",
      "\n",
      "MLflow run завершен успешно!\n"
     ]
    }
   ],
   "source": [
    "# Сводка по эксперименту\n",
    "print(\"\\n\" + \"=\"*50)\n",
    "print(\"СВОДКА ПО ML\")\n",
    "print(\"=\"*50)\n",
    "print(f\"MLflow Run ID: {run_id}\")\n",
    "print(f\"Модель: RandomForestRegressor\")\n",
    "print(f\"Данные: Gold слой Age Predictor\")\n",
    "print(f\"Размер обучающей выборки: {train_data.count():,}\")\n",
    "print(f\"Размер тестовой выборки: {test_data.count():,}\")\n",
    "print(f\"Количество признаков: {len(all_features)}\")\n",
    "print(f\"Лучшие параметры:\")\n",
    "print(f\"  - NumTrees: {best_rf_model.getNumTrees}\")\n",
    "print(f\"  - MaxDepth: {best_rf_model.getMaxDepth()}\")\n",
    "print(f\"  - SubsamplingRate: {best_rf_model.getSubsamplingRate()}\")\n",
    "print(f\"Итоговые метрики:\")\n",
    "print(f\"  - Test RMSE: {test_rmse:.4f}\")\n",
    "print(f\"  - Test MAE: {test_mae:.4f}\")\n",
    "print(f\"  - Test R²: {test_r2:.4f}\")\n",
    "print(\"=\"*50)\n",
    "\n",
    "# Логируем сводные метрики\n",
    "mlflow.log_metric(\"final_score\", test_r2)\n",
    "mlflow.log_metric(\"model_complexity\", best_rf_model.getNumTrees * best_rf_model.getMaxDepth())\n",
    "\n",
    "# Завершаем MLflow run\n",
    "print(\"\\nMLflow run завершен успешно!\")"
   ]
  },
  {
   "cell_type": "code",
   "execution_count": 49,
   "metadata": {},
   "outputs": [
    {
     "name": "stdout",
     "output_type": "stream",
     "text": [
      "Освобождение памяти...\n",
      "Память освобождена, кэш очищен\n"
     ]
    }
   ],
   "source": [
    "# Освобождение памяти и очистка\n",
    "print(\"Освобождение памяти...\")\n",
    "\n",
    "# Отменяем кэширование\n",
    "df_ml.unpersist()\n",
    "train_data.unpersist()\n",
    "test_data.unpersist()\n",
    "\n",
    "# Очистка кэша Spark\n",
    "spark.catalog.clearCache()\n",
    "\n",
    "print(\"Память освобождена, кэш очищен\")"
   ]
  },
  {
   "cell_type": "code",
   "execution_count": 50,
   "metadata": {},
   "outputs": [
    {
     "name": "stdout",
     "output_type": "stream",
     "text": [
      "Остановка Spark сессии...\n",
      "Spark сессия остановлена\n",
      "\n",
      "============================================================\n",
      "ML ЗАВЕРШЕН УСПЕШНО!\n",
      "============================================================\n",
      "Модель обучена и сохранена в MLflow\n",
      "Метрики и параметры залогированы\n",
      "Важность признаков проанализирована\n",
      "Производительность по сегментам оценена\n",
      "Ресурсы освобождены\n",
      "============================================================\n"
     ]
    }
   ],
   "source": [
    "# Остановка Spark сессии\n",
    "print(\"Остановка Spark сессии...\")\n",
    "spark.stop()\n",
    "print(\"Spark сессия остановлена\")\n",
    "\n",
    "print(\"\\n\" + \"=\"*60)\n",
    "print(\"ML ЗАВЕРШЕН УСПЕШНО!\")\n",
    "print(\"=\"*60)\n",
    "print(\"Модель обучена и сохранена в MLflow\")\n",
    "print(\"Метрики и параметры залогированы\")\n",
    "print(\"Важность признаков проанализирована\")\n",
    "print(\"Производительность по сегментам оценена\")\n",
    "print(\"Ресурсы освобождены\")\n",
    "print(\"=\"*60)"
   ]
  },
  {
   "cell_type": "code",
   "execution_count": null,
   "metadata": {},
   "outputs": [],
   "source": []
  }
 ],
 "metadata": {
  "kernelspec": {
   "display_name": "Python 3 (ipykernel)",
   "language": "python",
   "name": "python3"
  },
  "language_info": {
   "codemirror_mode": {
    "name": "ipython",
    "version": 3
   },
   "file_extension": ".py",
   "mimetype": "text/x-python",
   "name": "python",
   "nbconvert_exporter": "python",
   "pygments_lexer": "ipython3",
   "version": "3.11.6"
  }
 },
 "nbformat": 4,
 "nbformat_minor": 4
}
